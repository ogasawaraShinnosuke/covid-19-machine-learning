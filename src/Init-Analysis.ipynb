{
 "cells": [
  {
   "cell_type": "code",
   "execution_count": 209,
   "metadata": {},
   "outputs": [],
   "source": [
    "# 最新のCOVID-19のデータをWikiから（厚労省のデータ一覧）取得\n",
    "from urllib import request\n",
    "from bs4 import BeautifulSoup\n",
    "url = 'https://en.wikipedia.org/wiki/COVID-19_pandemic_in_Japan'\n",
    "response = request.urlopen(url)\n",
    "soup = BeautifulSoup(response)\n",
    "response.close()"
   ]
  },
  {
   "cell_type": "code",
   "execution_count": 250,
   "metadata": {},
   "outputs": [
    {
     "data": {
      "image/png": "[encoded data removed]",
      "text/plain": [
       "<Figure size 432x288 with 1 Axes>"
      ]
     },
     "metadata": {
      "needs_background": "light"
     },
     "output_type": "display_data"
    },
    {
     "name": "stdout",
     "output_type": "stream",
     "text": [
      "RMSE Test :63.21741122235123\n",
      "R^2 Train : 0.920, Test : 0.882\n"
     ]
    }
   ],
   "source": [
    "# WikipediaデータからCOVID-19のデータを取得\n",
    "import re\n",
    "import pandas as pd\n",
    "def wikipedia2covid19():\n",
    "    extract_int = lambda string: re.search(r'[\\d,]+', string)\n",
    "    trs = soup.find('div', class_='barbox tright').select('table')[0].select('tbody')[0].select('tr')\n",
    "    data = []\n",
    "    for rows in trs:\n",
    "        row = rows.select('td.bb-04em')\n",
    "        if len(row) == 0:\n",
    "            continue\n",
    "        date = row[0].text\n",
    "        case = extract_int(row[1].text)\n",
    "        if case != None:\n",
    "            case = case.group()\n",
    "        death = extract_int(row[2].text)\n",
    "        if death != None:\n",
    "            death = death.group()\n",
    "        data.append({'date': date, 'case': case, 'death': death})\n",
    "    return pd.DataFrame(data)\n",
    "\n",
    "# データを整形する\n",
    "import matplotlib as mpl\n",
    "mpl.rcParams['font.family'] = 'AppleGothic'\n",
    "import matplotlib.pyplot as plt\n",
    "from sklearn.model_selection import train_test_split\n",
    "from sklearn.linear_model import LinearRegression\n",
    "def plot_scatter_covid19(df, y_test_pred):\n",
    "    auto_reshape_int = lambda column: pd.DataFrame([0 if x == None else int(x.replace(',', '')) for x in column.values]).values.reshape(-1, 1)\n",
    "    case = auto_reshape_int(df.case)\n",
    "    death = auto_reshape_int(df.death)\n",
    "    X_train, X_test, y_train, y_test = train_test_split(case, death, test_size=0.3, random_state=0)\n",
    "    lr = LinearRegression()\n",
    "    lr.fit(X_train, y_train)\n",
    "    plt.scatter(case, death)\n",
    "    plt.plot(X_test, y_test_pred, color='red')\n",
    "    plt.title('新型コロナウイルスの感染者と死亡者（人）')\n",
    "    plt.xlabel('感染者（人）')\n",
    "    plt.ylabel('死亡者（人）')\n",
    "    plt.show()\n",
    "\n",
    "from math import sqrt\n",
    "from sklearn.metrics import mean_squared_error\n",
    "def score_rmse_r2(y_test_pred):\n",
    "    return ({'rmse': sqrt(mean_squared_error(y_test, y_test_pred)), 'train': lr.score(X_train, y_train), 'test': lr.score(X_test, y_test) })\n",
    "\n",
    "\n",
    "y_test_pred = lr.predict(X_test)\n",
    "plot_scatter_covid19(pd.DataFrame(wikipedia2covid19()), y_test_pred)\n",
    "score = score_rmse_r2(y_test_pred)\n",
    "\n",
    "print('RMSE Test :' + str(score['rmse']))\n",
    "print('R^2 Train : %.3f, Test : %.3f' % (score['train'], score['test']))"
   ]
  },
  {
   "cell_type": "code",
   "execution_count": null,
   "metadata": {},
   "outputs": [],
   "source": []
  }
 ],
 "metadata": {
  "kernelspec": {
   "display_name": "Python 3",
   "language": "python",
   "name": "python3"
  },
  "language_info": {
   "codemirror_mode": {
    "name": "ipython",
    "version": 3
   },
   "file_extension": ".py",
   "mimetype": "text/x-python",
   "name": "python",
   "nbconvert_exporter": "python",
   "pygments_lexer": "ipython3",
   "version": "3.7.6"
  }
 },
 "nbformat": 4,
 "nbformat_minor": 4
}

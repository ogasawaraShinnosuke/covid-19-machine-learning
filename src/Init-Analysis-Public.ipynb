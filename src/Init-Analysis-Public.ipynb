{
 "cells": [
  {
   "cell_type": "code",
   "execution_count": 2,
   "metadata": {},
   "outputs": [],
   "source": [
    "# 最新のCOVID-19のデータをWikiから（厚労省のデータ一覧）取得\n",
    "from urllib import request\n",
    "from bs4 import BeautifulSoup\n",
    "response = request.urlopen('https://en.wikipedia.org/wiki/COVID-19_pandemic_in_Japan')\n",
    "soup = BeautifulSoup(response)\n",
    "response.close()"
   ]
  },
  {
   "cell_type": "code",
   "execution_count": 120,
   "metadata": {},
   "outputs": [
    {
     "data": {
      "image/png": "[encoded data removed]",
      "text/plain": [
       "<Figure size 432x288 with 1 Axes>"
      ]
     },
     "metadata": {
      "needs_background": "light"
     },
     "output_type": "display_data"
    },
    {
     "name": "stdout",
     "output_type": "stream",
     "text": [
      "データ乖離=59.78923634187303\n",
      "学習用データの説明変数が目的変数に合致する率=0.9195646985236091\n",
      "テストデータの説明変数が目的変数に合致する率=0.8923853332143273\n"
     ]
    }
   ],
   "source": [
    "# WikipediaデータからCOVID-19のデータを取得\n",
    "import re\n",
    "import pandas as pd\n",
    "EXTRACT_DIGITS = lambda string: re.search(r'[\\d,]+', string)\n",
    "def wikipedia2covid19():\n",
    "    data = []\n",
    "    for rows in soup.find('div', class_='barbox tright').select('table')[0].select('tbody')[0].select('tr'):\n",
    "        row = rows.select('td.bb-04em')\n",
    "        if len(row) == 0:\n",
    "            continue\n",
    "        date = row[0].text\n",
    "        case = EXTRACT_DIGITS(row[1].text)\n",
    "        if case != None:\n",
    "            case = case.group()\n",
    "        death = EXTRACT_DIGITS(row[2].text)\n",
    "        if death != None:\n",
    "            death = death.group()\n",
    "        data.append({'date': date, 'case': case, 'death': death})\n",
    "    return pd.DataFrame(data)\n",
    "\n",
    "# データを整形する\n",
    "%matplotlib inline\n",
    "import matplotlib as mpl\n",
    "mpl.rcParams['font.family'] = 'AppleGothic'\n",
    "import matplotlib.pyplot as plt\n",
    "from sklearn.model_selection import train_test_split\n",
    "from sklearn.linear_model import LinearRegression\n",
    "AUTO_RESHAPE_DIGITS = lambda column: pd.DataFrame([0 if x == None else int(x.replace(',', '')) for x in column.values]).values.reshape(-1, 1)\n",
    "def plot_scatter_covid19(df, lr, test_size=0.4):\n",
    "    case = AUTO_RESHAPE_DIGITS(df.case)\n",
    "    death = AUTO_RESHAPE_DIGITS(df.death)\n",
    "    X_train, X_test, y_train, y_test = train_test_split(case, death, test_size=test_size, random_state=0)\n",
    "    lr.fit(X_train, y_train)\n",
    "    y_test_pred = lr.predict(X_test)\n",
    "    plt.title('新型コロナウイルスの感染者と死亡者（人）')\n",
    "    plt.scatter(case, death)\n",
    "    plt.plot(X_test, y_test_pred, color='red')\n",
    "    plt.xlabel('感染者（人）')\n",
    "    plt.ylabel('死亡者（人）')\n",
    "    plt.show()\n",
    "    return pd.DataFrame({ 'X': { 'train': X_train, 'test': X_test }, 'y': { 'train': y_train, 'test': y_test, 'pred': y_test_pred } })\n",
    "\n",
    "from math import sqrt\n",
    "from sklearn.metrics import mean_squared_error\n",
    "def score_rmse_r2(tts, lr):\n",
    "    return pd.Series({'rmse': sqrt(mean_squared_error(tts.y.test, tts.y.pred)), 'train': lr.score(tts.X.train, tts.y.train), 'test': lr.score(tts.X.test, tts.y.test) })\n",
    "\n",
    "lr = LinearRegression()\n",
    "tts = plot_scatter_covid19(wikipedia2covid19(), lr)\n",
    "score = score_rmse_r2(tts, lr)\n",
    "\n",
    "print('データ乖離=' + str(score.rmse))\n",
    "print('学習用データの説明変数が目的変数に合致する率=' + str(score.train))\n",
    "print('テストデータの説明変数が目的変数に合致する率=' + str(score.test))\n"
   ]
  },
  {
   "cell_type": "code",
   "execution_count": null,
   "metadata": {},
   "outputs": [],
   "source": []
  }
 ],
 "metadata": {
  "kernelspec": {
   "display_name": "Python 3",
   "language": "python",
   "name": "python3"
  },
  "language_info": {
   "codemirror_mode": {
    "name": "ipython",
    "version": 3
   },
   "file_extension": ".py",
   "mimetype": "text/x-python",
   "name": "python",
   "nbconvert_exporter": "python",
   "pygments_lexer": "ipython3",
   "version": "3.7.6"
  }
 },
 "nbformat": 4,
 "nbformat_minor": 4
}
